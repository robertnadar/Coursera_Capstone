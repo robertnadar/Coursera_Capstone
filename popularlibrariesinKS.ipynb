{
    "cells": [
        {
            "cell_type": "markdown",
            "metadata": {
                "collapsed": true
            },
            "source": "# Introduction\n\n### I would like to solve the problem of finding the popular libraries in the state of Kansas so that user residing in state of Kansas can find libraries close to their location and have access to free books in the library"
        },
        {
            "cell_type": "markdown",
            "metadata": {},
            "source": "# Data Section\n\n### We will start with use of different steps in data science methodology. Now that the business requirement is already laid, it is time to find the approach we are going to take to collect, understand, analyse and prepare the data. The first step include collecting the data making use of publicly available library dataset, foursquare api to get the location of the library, publicly available popular books dataset like New york best sellers list. We are going to scrap away the PII data and only keep the publicly available data during the stage of data preprocessing. Now we analyse the data make sure what are the individual fields/columns are relevance and remove the unwanted fields. we will convert the text column to int by using transpose method so that we can fit model on the data. During the whole process of analyzing the data , we will make use of different plots to understand the data to its depth\n\n\n### Dataset\n\n##### 1.  Libraries in Kansas \n#### 2.  Popular books\n#### 3.  Foursquare API"
        },
        {
            "cell_type": "code",
            "execution_count": null,
            "metadata": {},
            "outputs": [],
            "source": ""
        }
    ],
    "metadata": {
        "kernelspec": {
            "display_name": "Python 3.6",
            "language": "python",
            "name": "python3"
        },
        "language_info": {
            "codemirror_mode": {
                "name": "ipython",
                "version": 3
            },
            "file_extension": ".py",
            "mimetype": "text/x-python",
            "name": "python",
            "nbconvert_exporter": "python",
            "pygments_lexer": "ipython3",
            "version": "3.6.9"
        }
    },
    "nbformat": 4,
    "nbformat_minor": 1
}