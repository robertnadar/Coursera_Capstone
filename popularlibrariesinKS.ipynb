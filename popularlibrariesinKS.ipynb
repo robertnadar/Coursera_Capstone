{
    "cells": [
        {
            "cell_type": "markdown",
            "metadata": {},
            "source": "# Capstone Project - The Battle of the Neighborhoods (Week 2)\n## Applied Data Science Capstone by IBM/Coursera"
        },
        {
            "cell_type": "markdown",
            "metadata": {},
            "source": "## Table of contents\n#### 1. Introduction: Business Problem\n#### 2. Data\n#### 3. Methodology & Analysis\n#### 4. Results and Discussion\n#### 5. Conclusion"
        },
        {
            "cell_type": "markdown",
            "metadata": {
                "collapsed": true
            },
            "source": "## Introduction: Business Problem\n\nin this project we  would like to solve the problem of finding the popular libraries in the state of North Carolina. North Carolina is known for its rich accessiblity to all public libraries to the general users. The idea here is to identify all the popular libraries in the state and the reason behind of being popular based on venues close by. we will be also identifying different venues close to the library which will help the team to identify what is the best criteria to open a new library in a new location"
        },
        {
            "cell_type": "markdown",
            "metadata": {},
            "source": "# Data \n\n We will start with use of different steps in data science methodology. Now that the business requirement is already laid, it is time to find the approach we are going to take to collect, understand, analyse and prepare the data. The first step include collecting the data making use of publicly available library dataset, foursquare api to get the location of the library, publicly available popular books dataset like New york best sellers list. We are going to scrap away the PII data and only keep the publicly available data during the stage of data preprocessing. Now we analyse the data make sure what are the individual fields/columns are relevance and remove the unwanted fields. we will convert the text column to int by using transpose method so that we can fit model on the data. During the whole process of analyzing the data , we will make use of different plots to understand the data to its depth\n\n\n## Dataset\n\n 1.  Libraries in North Carolina \n 2.  Popular books\n 3.  Foursquare API"
        },
        {
            "cell_type": "code",
            "execution_count": 1,
            "metadata": {},
            "outputs": [
                {
                    "name": "stdout",
                    "output_type": "stream",
                    "text": "Requirement already satisfied: folium in /opt/conda/envs/Python36/lib/python3.6/site-packages (0.10.1)\nRequirement already satisfied: jinja2>=2.9 in /opt/conda/envs/Python36/lib/python3.6/site-packages (from folium) (2.10)\nRequirement already satisfied: branca>=0.3.0 in /opt/conda/envs/Python36/lib/python3.6/site-packages (from folium) (0.4.0)\nRequirement already satisfied: numpy in /opt/conda/envs/Python36/lib/python3.6/site-packages (from folium) (1.15.4)\nRequirement already satisfied: requests in /opt/conda/envs/Python36/lib/python3.6/site-packages (from folium) (2.21.0)\nRequirement already satisfied: MarkupSafe>=0.23 in /opt/conda/envs/Python36/lib/python3.6/site-packages (from jinja2>=2.9->folium) (1.1.0)\nRequirement already satisfied: six in /opt/conda/envs/Python36/lib/python3.6/site-packages (from branca>=0.3.0->folium) (1.12.0)\nRequirement already satisfied: chardet<3.1.0,>=3.0.2 in /opt/conda/envs/Python36/lib/python3.6/site-packages (from requests->folium) (3.0.4)\nRequirement already satisfied: urllib3<1.25,>=1.21.1 in /opt/conda/envs/Python36/lib/python3.6/site-packages (from requests->folium) (1.24.1)\nRequirement already satisfied: certifi>=2017.4.17 in /opt/conda/envs/Python36/lib/python3.6/site-packages (from requests->folium) (2019.11.28)\nRequirement already satisfied: idna<2.9,>=2.5 in /opt/conda/envs/Python36/lib/python3.6/site-packages (from requests->folium) (2.8)\n"
                }
            ],
            "source": "# install all the dependencies\n\n!pip install folium"
        },
        {
            "cell_type": "code",
            "execution_count": 2,
            "metadata": {},
            "outputs": [],
            "source": "# import all the necessary libraries\n\nimport types\nimport pandas as pd\nfrom botocore.client import Config\nimport ibm_boto3\nfrom geopy.geocoders import Nominatim\nimport requests\nimport numpy as np\nfrom sklearn import preprocessing\n%matplotlib inline \nimport matplotlib.pyplot as plt\nimport folium # map rendering library"
        },
        {
            "cell_type": "code",
            "execution_count": 3,
            "metadata": {},
            "outputs": [
                {
                    "data": {
                        "text/html": "<div>\n<style scoped>\n    .dataframe tbody tr th:only-of-type {\n        vertical-align: middle;\n    }\n\n    .dataframe tbody tr th {\n        vertical-align: top;\n    }\n\n    .dataframe thead th {\n        text-align: right;\n    }\n</style>\n<table border=\"1\" class=\"dataframe\">\n  <thead>\n    <tr style=\"text-align: right;\">\n      <th></th>\n      <th>name</th>\n      <th>street</th>\n      <th>city</th>\n      <th>state</th>\n      <th>postalcode</th>\n      <th>LibraryId</th>\n      <th>isbn</th>\n      <th>title</th>\n      <th>publisher</th>\n      <th>format</th>\n      <th>type</th>\n      <th>patronid</th>\n    </tr>\n  </thead>\n  <tbody>\n    <tr>\n      <th>0</th>\n      <td>Mooresville Public Library</td>\n      <td>7111 NC State University</td>\n      <td>RALEIGH</td>\n      <td>NC</td>\n      <td>27695</td>\n      <td>714</td>\n      <td>9781400123353</td>\n      <td>Saxons, Vikings, and Celts</td>\n      <td>Tantor Media, Inc</td>\n      <td>eAudio</td>\n      <td>wishlist.post</td>\n      <td>530185</td>\n    </tr>\n    <tr>\n      <th>1</th>\n      <td>Cabarrus County Charles A. Cannon Library</td>\n      <td>27 Union St N</td>\n      <td>CONCORD</td>\n      <td>NC</td>\n      <td>28025</td>\n      <td>559</td>\n      <td>9781449884314</td>\n      <td>Not Without You</td>\n      <td>Recorded Books, Inc.</td>\n      <td>eAudio</td>\n      <td>checkout.post</td>\n      <td>980440</td>\n    </tr>\n    <tr>\n      <th>2</th>\n      <td>Cabarrus County Charles A. Cannon Library</td>\n      <td>27 Union St N</td>\n      <td>CONCORD</td>\n      <td>NC</td>\n      <td>28025</td>\n      <td>559</td>\n      <td>9780804163972</td>\n      <td>Command Authority</td>\n      <td>Books on Tape</td>\n      <td>eAudio</td>\n      <td>checkout.post</td>\n      <td>761768</td>\n    </tr>\n    <tr>\n      <th>3</th>\n      <td>Cumberland County Public Library</td>\n      <td>300 Maiden Ln</td>\n      <td>FAYETTEVILLE</td>\n      <td>NC</td>\n      <td>28301</td>\n      <td>595</td>\n      <td>9781449890339</td>\n      <td>Chocolate Chip Cookie Murder</td>\n      <td>Recorded Books, Inc.</td>\n      <td>eAudio</td>\n      <td>checkout.post</td>\n      <td>999141</td>\n    </tr>\n    <tr>\n      <th>4</th>\n      <td>Wilson County Public</td>\n      <td>7111 NC State University</td>\n      <td>RALEIGH</td>\n      <td>NC</td>\n      <td>27695</td>\n      <td>555</td>\n      <td>9781607880400</td>\n      <td>4th of July</td>\n      <td>Hachette Audio</td>\n      <td>eAudio</td>\n      <td>checkout.post</td>\n      <td>762054</td>\n    </tr>\n  </tbody>\n</table>\n</div>",
                        "text/plain": "                                        name                    street  \\\n0                 Mooresville Public Library  7111 NC State University   \n1  Cabarrus County Charles A. Cannon Library             27 Union St N   \n2  Cabarrus County Charles A. Cannon Library             27 Union St N   \n3           Cumberland County Public Library             300 Maiden Ln   \n4                       Wilson County Public  7111 NC State University   \n\n           city state  postalcode  LibraryId           isbn  \\\n0       RALEIGH    NC       27695        714  9781400123353   \n1       CONCORD    NC       28025        559  9781449884314   \n2       CONCORD    NC       28025        559  9780804163972   \n3  FAYETTEVILLE    NC       28301        595  9781449890339   \n4       RALEIGH    NC       27695        555  9781607880400   \n\n                          title             publisher  format           type  \\\n0    Saxons, Vikings, and Celts     Tantor Media, Inc  eAudio  wishlist.post   \n1               Not Without You  Recorded Books, Inc.  eAudio  checkout.post   \n2             Command Authority         Books on Tape  eAudio  checkout.post   \n3  Chocolate Chip Cookie Murder  Recorded Books, Inc.  eAudio  checkout.post   \n4                   4th of July        Hachette Audio  eAudio  checkout.post   \n\n   patronid  \n0    530185  \n1    980440  \n2    761768  \n3    999141  \n4    762054  "
                    },
                    "execution_count": 3,
                    "metadata": {},
                    "output_type": "execute_result"
                }
            ],
            "source": "# The code was removed by Watson Studio for sharing."
        },
        {
            "cell_type": "markdown",
            "metadata": {},
            "source": "## Methodology and Analysis\n"
        },
        {
            "cell_type": "markdown",
            "metadata": {},
            "source": "In this project we will direct our efforts on data collection. data preparation, generating a model, evaluating the model and finally plotting the data in the map to identify the popular library. \n\nFirst step  -  we are going to identify the unique postal code of all the libraries and then use the \"geolocator\" libraries to get the location information like latitude and longitude. this is necessary further to plot the location of the libraries in the map. We are going to do it in a separate data frame to avoid multiple hits to geolocator api theryby avoiding time-out issue. Next we will merge the location data into the original data frame. We will only consider the relevant columns like name, postal code, longitude, latitude information and ignore all other columns\n\nSecond step - Once the inital dataset is completed, we will have rough information of popular titles based on the no of checkouts information on each library. we will use that information to find the most popular library with help of dataframe.describe method. Next we will use Foursquare api to find all the venues close to the popular library to identify what are the venues is helpful to decide whether a library is popular or not\n\nThird step - We will creating a model to identify the popular library. Since we need to find out whether a library is popular or not, it falls under category of binary classification(yes/no), so we would be using logistic regresssion to build a model and evaluate the dataset. We will use different evaluation technique like loggloss function, confusion matric etc to verify the results\n\nIn the fourth and the final step, we will use the map to plot all the popular libraries in the state of North Carolina and use plot markers to mark the libraries with no of checkouts\n\n"
        },
        {
            "cell_type": "code",
            "execution_count": 4,
            "metadata": {},
            "outputs": [
                {
                    "data": {
                        "text/html": "<div>\n<style scoped>\n    .dataframe tbody tr th:only-of-type {\n        vertical-align: middle;\n    }\n\n    .dataframe tbody tr th {\n        vertical-align: top;\n    }\n\n    .dataframe thead th {\n        text-align: right;\n    }\n</style>\n<table border=\"1\" class=\"dataframe\">\n  <thead>\n    <tr style=\"text-align: right;\">\n      <th></th>\n      <th>postalcode</th>\n    </tr>\n  </thead>\n  <tbody>\n    <tr>\n      <th>0</th>\n      <td>27695</td>\n    </tr>\n    <tr>\n      <th>1</th>\n      <td>28025</td>\n    </tr>\n    <tr>\n      <th>2</th>\n      <td>28301</td>\n    </tr>\n    <tr>\n      <th>3</th>\n      <td>28560</td>\n    </tr>\n    <tr>\n      <th>4</th>\n      <td>27203</td>\n    </tr>\n  </tbody>\n</table>\n</div>",
                        "text/plain": "   postalcode\n0       27695\n1       28025\n2       28301\n3       28560\n4       27203"
                    },
                    "execution_count": 4,
                    "metadata": {},
                    "output_type": "execute_result"
                }
            ],
            "source": "# get the unique postal codes of all the libraries\n\npostalcode = df.postalcode.unique()\ndf_postalcode = pd.DataFrame({'postalcode': postalcode})\ndf_postalcode.head()"
        },
        {
            "cell_type": "code",
            "execution_count": null,
            "metadata": {},
            "outputs": [
                {
                    "data": {
                        "text/html": "<div>\n<style scoped>\n    .dataframe tbody tr th:only-of-type {\n        vertical-align: middle;\n    }\n\n    .dataframe tbody tr th {\n        vertical-align: top;\n    }\n\n    .dataframe thead th {\n        text-align: right;\n    }\n</style>\n<table border=\"1\" class=\"dataframe\">\n  <thead>\n    <tr style=\"text-align: right;\">\n      <th></th>\n      <th>postalcode</th>\n      <th>long</th>\n      <th>lat</th>\n    </tr>\n  </thead>\n  <tbody>\n    <tr>\n      <th>0</th>\n      <td>27695</td>\n      <td>-7.196700</td>\n      <td>42.884874</td>\n    </tr>\n    <tr>\n      <th>1</th>\n      <td>28025</td>\n      <td>-3.734437</td>\n      <td>40.384181</td>\n    </tr>\n    <tr>\n      <th>2</th>\n      <td>28301</td>\n      <td>-78.896440</td>\n      <td>35.098176</td>\n    </tr>\n    <tr>\n      <th>3</th>\n      <td>28560</td>\n      <td>-3.235347</td>\n      <td>40.254600</td>\n    </tr>\n    <tr>\n      <th>4</th>\n      <td>27203</td>\n      <td>14.140361</td>\n      <td>50.156850</td>\n    </tr>\n  </tbody>\n</table>\n</div>",
                        "text/plain": "   postalcode       long        lat\n0       27695  -7.196700  42.884874\n1       28025  -3.734437  40.384181\n2       28301 -78.896440  35.098176\n3       28560  -3.235347  40.254600\n4       27203  14.140361  50.156850"
                    },
                    "execution_count": 5,
                    "metadata": {},
                    "output_type": "execute_result"
                }
            ],
            "source": "# use geolocator to find the latitude and longitude\n\ngeolocator = Nominatim(user_agent=\"geoapiExercises\")\nfor i, row in df_postalcode.iterrows():\n    location = geolocator.geocode(row['postalcode']) \n    df_postalcode.at[i , 'long'] = location.longitude\n    df_postalcode.at[i , 'lat'] = location.latitude\n\ndf_postalcode.head()  "
        },
        {
            "cell_type": "code",
            "execution_count": null,
            "metadata": {},
            "outputs": [
                {
                    "data": {
                        "text/html": "<div>\n<style scoped>\n    .dataframe tbody tr th:only-of-type {\n        vertical-align: middle;\n    }\n\n    .dataframe tbody tr th {\n        vertical-align: top;\n    }\n\n    .dataframe thead th {\n        text-align: right;\n    }\n</style>\n<table border=\"1\" class=\"dataframe\">\n  <thead>\n    <tr style=\"text-align: right;\">\n      <th></th>\n      <th>name</th>\n      <th>postalcode</th>\n      <th>checkoutcount</th>\n    </tr>\n  </thead>\n  <tbody>\n    <tr>\n      <th>0</th>\n      <td>Alamance Community College</td>\n      <td>27695</td>\n      <td>7</td>\n    </tr>\n    <tr>\n      <th>1</th>\n      <td>Alamance County Public Libraries</td>\n      <td>27695</td>\n      <td>5905</td>\n    </tr>\n    <tr>\n      <th>2</th>\n      <td>Albemarle Regional</td>\n      <td>27695</td>\n      <td>42</td>\n    </tr>\n    <tr>\n      <th>3</th>\n      <td>Alexander County</td>\n      <td>28681</td>\n      <td>635</td>\n    </tr>\n    <tr>\n      <th>4</th>\n      <td>Appalachian Regional</td>\n      <td>27695</td>\n      <td>293</td>\n    </tr>\n  </tbody>\n</table>\n</div>",
                        "text/plain": "                               name  postalcode  checkoutcount\n0        Alamance Community College       27695              7\n1  Alamance County Public Libraries       27695           5905\n2                Albemarle Regional       27695             42\n3                  Alexander County       28681            635\n4              Appalachian Regional       27695            293"
                    },
                    "execution_count": 6,
                    "metadata": {},
                    "output_type": "execute_result"
                }
            ],
            "source": "# group the dataset based on name,type and postalcode and consider type ='checkout'\n\ndf_filtered = df[['name','type','postalcode']]\ndf_filtered = df_filtered[df_filtered[\"type\"] == 'checkout.post']\ndf_filtered = df_filtered.rename(columns={\"type\": \"checkoutcount\"})\ndf_filtered = df_filtered.groupby(['name','postalcode'])[\"checkoutcount\"].count().reset_index()\ndf_filtered.head()"
        },
        {
            "cell_type": "code",
            "execution_count": null,
            "metadata": {},
            "outputs": [
                {
                    "data": {
                        "text/html": "<div>\n<style scoped>\n    .dataframe tbody tr th:only-of-type {\n        vertical-align: middle;\n    }\n\n    .dataframe tbody tr th {\n        vertical-align: top;\n    }\n\n    .dataframe thead th {\n        text-align: right;\n    }\n</style>\n<table border=\"1\" class=\"dataframe\">\n  <thead>\n    <tr style=\"text-align: right;\">\n      <th></th>\n      <th>name</th>\n      <th>checkoutcount</th>\n      <th>long</th>\n      <th>lat</th>\n    </tr>\n  </thead>\n  <tbody>\n    <tr>\n      <th>0</th>\n      <td>Carteret Community College</td>\n      <td>13</td>\n      <td>-7.1967</td>\n      <td>42.884874</td>\n    </tr>\n    <tr>\n      <th>1</th>\n      <td>Western Piedmont Community College</td>\n      <td>4</td>\n      <td>-7.1967</td>\n      <td>42.884874</td>\n    </tr>\n    <tr>\n      <th>2</th>\n      <td>Scotland County Memorial</td>\n      <td>2</td>\n      <td>-7.1967</td>\n      <td>42.884874</td>\n    </tr>\n    <tr>\n      <th>3</th>\n      <td>Nash County--Braswell Memorial Library</td>\n      <td>15</td>\n      <td>-7.1967</td>\n      <td>42.884874</td>\n    </tr>\n    <tr>\n      <th>4</th>\n      <td>Greensboro Public</td>\n      <td>8</td>\n      <td>-7.1967</td>\n      <td>42.884874</td>\n    </tr>\n  </tbody>\n</table>\n</div>",
                        "text/plain": "                                     name  checkoutcount    long        lat\n0              Carteret Community College             13 -7.1967  42.884874\n1      Western Piedmont Community College              4 -7.1967  42.884874\n2                Scotland County Memorial              2 -7.1967  42.884874\n3  Nash County--Braswell Memorial Library             15 -7.1967  42.884874\n4                       Greensboro Public              8 -7.1967  42.884874"
                    },
                    "execution_count": 7,
                    "metadata": {},
                    "output_type": "execute_result"
                }
            ],
            "source": "# merge the dataframe with latitude and longitude information\n\ndf_filtered = df_filtered.set_index('postalcode').join(df_postalcode.set_index('postalcode'))\ndf_filtered = df_filtered.sample(frac=1).reset_index(drop=True)\ndf_filtered.dropna(subset = [\"long\",\"lat\"], inplace=True)\ndf_filtered.head()"
        },
        {
            "cell_type": "code",
            "execution_count": null,
            "metadata": {},
            "outputs": [
                {
                    "data": {
                        "text/html": "<div>\n<style scoped>\n    .dataframe tbody tr th:only-of-type {\n        vertical-align: middle;\n    }\n\n    .dataframe tbody tr th {\n        vertical-align: top;\n    }\n\n    .dataframe thead th {\n        text-align: right;\n    }\n</style>\n<table border=\"1\" class=\"dataframe\">\n  <thead>\n    <tr style=\"text-align: right;\">\n      <th></th>\n      <th>name</th>\n      <th>checkoutcount</th>\n      <th>long</th>\n      <th>lat</th>\n      <th>label</th>\n    </tr>\n  </thead>\n  <tbody>\n    <tr>\n      <th>0</th>\n      <td>Cabarrus County Charles A. Cannon Library</td>\n      <td>35257</td>\n      <td>-3.734437</td>\n      <td>40.384181</td>\n      <td>Cabarrus County Charles A. Cannon Library - (3...</td>\n    </tr>\n    <tr>\n      <th>1</th>\n      <td>Pub Library CHARLOTTE &amp; MEC</td>\n      <td>23237</td>\n      <td>-80.842216</td>\n      <td>35.227670</td>\n      <td>Pub Library CHARLOTTE &amp; MEC - (23237)</td>\n    </tr>\n    <tr>\n      <th>2</th>\n      <td>Sheppard Memorial Library Pitt County</td>\n      <td>11762</td>\n      <td>-77.362316</td>\n      <td>35.595715</td>\n      <td>Sheppard Memorial Library Pitt County - (11762)</td>\n    </tr>\n    <tr>\n      <th>3</th>\n      <td>Craven-Pamlico-Carteret Regional</td>\n      <td>9981</td>\n      <td>-3.235347</td>\n      <td>40.254600</td>\n      <td>Craven-Pamlico-Carteret Regional - (9981)</td>\n    </tr>\n    <tr>\n      <th>4</th>\n      <td>Cumberland County Public Library</td>\n      <td>8405</td>\n      <td>-78.896440</td>\n      <td>35.098176</td>\n      <td>Cumberland County Public Library - (8405)</td>\n    </tr>\n    <tr>\n      <th>5</th>\n      <td>Alamance County Public Libraries</td>\n      <td>5905</td>\n      <td>-7.196700</td>\n      <td>42.884874</td>\n      <td>Alamance County Public Libraries - (5905)</td>\n    </tr>\n    <tr>\n      <th>6</th>\n      <td>Randolph County Public</td>\n      <td>5744</td>\n      <td>14.140361</td>\n      <td>50.156850</td>\n      <td>Randolph County Public - (5744)</td>\n    </tr>\n    <tr>\n      <th>7</th>\n      <td>Forsyth County Public</td>\n      <td>4296</td>\n      <td>-80.172191</td>\n      <td>36.121144</td>\n      <td>Forsyth County Public - (4296)</td>\n    </tr>\n    <tr>\n      <th>8</th>\n      <td>Fontana Regional</td>\n      <td>2522</td>\n      <td>-7.196700</td>\n      <td>42.884874</td>\n      <td>Fontana Regional - (2522)</td>\n    </tr>\n    <tr>\n      <th>9</th>\n      <td>Durham County</td>\n      <td>1849</td>\n      <td>-7.196700</td>\n      <td>42.884874</td>\n      <td>Durham County - (1849)</td>\n    </tr>\n    <tr>\n      <th>10</th>\n      <td>New Hanover County Public Library</td>\n      <td>1546</td>\n      <td>-77.948330</td>\n      <td>34.250786</td>\n      <td>New Hanover County Public Library - (1546)</td>\n    </tr>\n    <tr>\n      <th>11</th>\n      <td>Chatham County Public Libraries</td>\n      <td>1528</td>\n      <td>-79.069345</td>\n      <td>35.756801</td>\n      <td>Chatham County Public Libraries - (1528)</td>\n    </tr>\n    <tr>\n      <th>12</th>\n      <td>Beaufort-Hyde-Martin Regional</td>\n      <td>1512</td>\n      <td>-7.196700</td>\n      <td>42.884874</td>\n      <td>Beaufort-Hyde-Martin Regional - (1512)</td>\n    </tr>\n    <tr>\n      <th>13</th>\n      <td>GRANVILLE CO LIBRARY SYSTEM</td>\n      <td>1497</td>\n      <td>-78.575723</td>\n      <td>36.298720</td>\n      <td>GRANVILLE CO LIBRARY SYSTEM - (1497)</td>\n    </tr>\n    <tr>\n      <th>14</th>\n      <td>Mooresville Public Library</td>\n      <td>1362</td>\n      <td>-7.196700</td>\n      <td>42.884874</td>\n      <td>Mooresville Public Library - (1362)</td>\n    </tr>\n    <tr>\n      <th>15</th>\n      <td>Hocutt-Ellington Memorial Library</td>\n      <td>1259</td>\n      <td>0.816600</td>\n      <td>49.288634</td>\n      <td>Hocutt-Ellington Memorial Library - (1259)</td>\n    </tr>\n    <tr>\n      <th>16</th>\n      <td>Brunswick County Library</td>\n      <td>1077</td>\n      <td>-7.196700</td>\n      <td>42.884874</td>\n      <td>Brunswick County Library - (1077)</td>\n    </tr>\n    <tr>\n      <th>17</th>\n      <td>Gaston County Public Library</td>\n      <td>1054</td>\n      <td>-3.751205</td>\n      <td>40.366822</td>\n      <td>Gaston County Public Library - (1054)</td>\n    </tr>\n    <tr>\n      <th>18</th>\n      <td>DAVIDSON COUNTY PUBLIC LIBRARY</td>\n      <td>855</td>\n      <td>-80.268434</td>\n      <td>35.814516</td>\n      <td>DAVIDSON COUNTY PUBLIC LIBRARY - (855)</td>\n    </tr>\n    <tr>\n      <th>19</th>\n      <td>Neuse Regional Library</td>\n      <td>836</td>\n      <td>127.490821</td>\n      <td>36.652935</td>\n      <td>Neuse Regional Library - (836)</td>\n    </tr>\n    <tr>\n      <th>20</th>\n      <td>Wilson County Public</td>\n      <td>807</td>\n      <td>-7.196700</td>\n      <td>42.884874</td>\n      <td>Wilson County Public - (807)</td>\n    </tr>\n    <tr>\n      <th>21</th>\n      <td>Sandhill Regional</td>\n      <td>759</td>\n      <td>-7.196700</td>\n      <td>42.884874</td>\n      <td>Sandhill Regional - (759)</td>\n    </tr>\n    <tr>\n      <th>22</th>\n      <td>High Point Public</td>\n      <td>723</td>\n      <td>-7.196700</td>\n      <td>42.884874</td>\n      <td>High Point Public - (723)</td>\n    </tr>\n    <tr>\n      <th>23</th>\n      <td>NC State University</td>\n      <td>658</td>\n      <td>-7.196700</td>\n      <td>42.884874</td>\n      <td>NC State University - (658)</td>\n    </tr>\n    <tr>\n      <th>24</th>\n      <td>Alexander County</td>\n      <td>635</td>\n      <td>-81.220633</td>\n      <td>35.894714</td>\n      <td>Alexander County - (635)</td>\n    </tr>\n    <tr>\n      <th>25</th>\n      <td>Buncombe County Public</td>\n      <td>632</td>\n      <td>-7.196700</td>\n      <td>42.884874</td>\n      <td>Buncombe County Public - (632)</td>\n    </tr>\n    <tr>\n      <th>26</th>\n      <td>Henderson County Public</td>\n      <td>624</td>\n      <td>-7.196700</td>\n      <td>42.884874</td>\n      <td>Henderson County Public - (624)</td>\n    </tr>\n    <tr>\n      <th>27</th>\n      <td>Union County Public</td>\n      <td>599</td>\n      <td>-7.196700</td>\n      <td>42.884874</td>\n      <td>Union County Public - (599)</td>\n    </tr>\n    <tr>\n      <th>28</th>\n      <td>Wake County</td>\n      <td>546</td>\n      <td>-7.196700</td>\n      <td>42.884874</td>\n      <td>Wake County - (546)</td>\n    </tr>\n    <tr>\n      <th>29</th>\n      <td>East Albemarle Regional</td>\n      <td>510</td>\n      <td>-7.196700</td>\n      <td>42.884874</td>\n      <td>East Albemarle Regional - (510)</td>\n    </tr>\n  </tbody>\n</table>\n</div>",
                        "text/plain": "                                         name  checkoutcount        long  \\\n0   Cabarrus County Charles A. Cannon Library          35257   -3.734437   \n1                 Pub Library CHARLOTTE & MEC          23237  -80.842216   \n2       Sheppard Memorial Library Pitt County          11762  -77.362316   \n3            Craven-Pamlico-Carteret Regional           9981   -3.235347   \n4            Cumberland County Public Library           8405  -78.896440   \n5            Alamance County Public Libraries           5905   -7.196700   \n6                      Randolph County Public           5744   14.140361   \n7                       Forsyth County Public           4296  -80.172191   \n8                            Fontana Regional           2522   -7.196700   \n9                               Durham County           1849   -7.196700   \n10          New Hanover County Public Library           1546  -77.948330   \n11            Chatham County Public Libraries           1528  -79.069345   \n12              Beaufort-Hyde-Martin Regional           1512   -7.196700   \n13                GRANVILLE CO LIBRARY SYSTEM           1497  -78.575723   \n14                 Mooresville Public Library           1362   -7.196700   \n15          Hocutt-Ellington Memorial Library           1259    0.816600   \n16                   Brunswick County Library           1077   -7.196700   \n17               Gaston County Public Library           1054   -3.751205   \n18             DAVIDSON COUNTY PUBLIC LIBRARY            855  -80.268434   \n19                     Neuse Regional Library            836  127.490821   \n20                       Wilson County Public            807   -7.196700   \n21                          Sandhill Regional            759   -7.196700   \n22                          High Point Public            723   -7.196700   \n23                        NC State University            658   -7.196700   \n24                           Alexander County            635  -81.220633   \n25                     Buncombe County Public            632   -7.196700   \n26                    Henderson County Public            624   -7.196700   \n27                        Union County Public            599   -7.196700   \n28                                Wake County            546   -7.196700   \n29                    East Albemarle Regional            510   -7.196700   \n\n          lat                                              label  \n0   40.384181  Cabarrus County Charles A. Cannon Library - (3...  \n1   35.227670              Pub Library CHARLOTTE & MEC - (23237)  \n2   35.595715    Sheppard Memorial Library Pitt County - (11762)  \n3   40.254600          Craven-Pamlico-Carteret Regional - (9981)  \n4   35.098176          Cumberland County Public Library - (8405)  \n5   42.884874          Alamance County Public Libraries - (5905)  \n6   50.156850                    Randolph County Public - (5744)  \n7   36.121144                     Forsyth County Public - (4296)  \n8   42.884874                          Fontana Regional - (2522)  \n9   42.884874                             Durham County - (1849)  \n10  34.250786         New Hanover County Public Library - (1546)  \n11  35.756801           Chatham County Public Libraries - (1528)  \n12  42.884874             Beaufort-Hyde-Martin Regional - (1512)  \n13  36.298720               GRANVILLE CO LIBRARY SYSTEM - (1497)  \n14  42.884874                Mooresville Public Library - (1362)  \n15  49.288634         Hocutt-Ellington Memorial Library - (1259)  \n16  42.884874                  Brunswick County Library - (1077)  \n17  40.366822              Gaston County Public Library - (1054)  \n18  35.814516             DAVIDSON COUNTY PUBLIC LIBRARY - (855)  \n19  36.652935                     Neuse Regional Library - (836)  \n20  42.884874                       Wilson County Public - (807)  \n21  42.884874                          Sandhill Regional - (759)  \n22  42.884874                          High Point Public - (723)  \n23  42.884874                        NC State University - (658)  \n24  35.894714                           Alexander County - (635)  \n25  42.884874                     Buncombe County Public - (632)  \n26  42.884874                    Henderson County Public - (624)  \n27  42.884874                        Union County Public - (599)  \n28  42.884874                                Wake County - (546)  \n29  42.884874                    East Albemarle Regional - (510)  "
                    },
                    "execution_count": 8,
                    "metadata": {},
                    "output_type": "execute_result"
                }
            ],
            "source": "# create a new column 'label' which will be useful for graph marker\n\ndf_filtered['label'] = df_filtered[['name','checkoutcount']].apply(lambda x : '{} - ({})'.format(x[0],x[1]), axis=1)\ndf_filtered = df_filtered.sort_values(by=['checkoutcount'], ascending=False).reset_index(drop=True)\ndf_filtered.head(30)"
        },
        {
            "cell_type": "markdown",
            "metadata": {},
            "source": "## Explore the neighbourhood of \"Cabarrus County Charles A. Cannon Library\" as it has the max checkouts"
        },
        {
            "cell_type": "markdown",
            "metadata": {},
            "source": "###  find out the nearby venues using Foursquare API and see why this library is so popular"
        },
        {
            "cell_type": "code",
            "execution_count": null,
            "metadata": {},
            "outputs": [
                {
                    "name": "stdout",
                    "output_type": "stream",
                    "text": "Your credentails:\nCLIENT_ID: 2MY4LJEFD4NRY2J21OJNWS20AZU4FNF0IOXXYR5ACBZXVQ5L\nCLIENT_SECRET:TYQ2P0LOWAAKGGOE4R4EZOHWNMRE0J4GZTLJEPJDO4IEMKJJ\n"
                }
            ],
            "source": "\n# Credentails for Foursquare api\n\nCLIENT_ID = '2MY4LJEFD4NRY2J21OJNWS20AZU4FNF0IOXXYR5ACBZXVQ5L' # your Foursquare ID\nCLIENT_SECRET = 'TYQ2P0LOWAAKGGOE4R4EZOHWNMRE0J4GZTLJEPJDO4IEMKJJ' # your Foursquare Secret\n\nVERSION = '20180605' # Foursquare API version\nLIMIT = 30\nprint('Your credentails:')\nprint('CLIENT_ID: ' + CLIENT_ID)\nprint('CLIENT_SECRET:' + CLIENT_SECRET)\n"
        },
        {
            "cell_type": "code",
            "execution_count": null,
            "metadata": {},
            "outputs": [
                {
                    "data": {
                        "text/plain": "'Cabarrus County Charles A. Cannon Library'"
                    },
                    "execution_count": 10,
                    "metadata": {},
                    "output_type": "execute_result"
                }
            ],
            "source": "#get the popular library\n\ndf_filtered.loc[0, 'name']"
        },
        {
            "cell_type": "code",
            "execution_count": null,
            "metadata": {},
            "outputs": [],
            "source": "def getNearbyVenues(names, latitudes, longitudes, radius=500):\n    \n    venues_list=[]\n    for name, lat, lng in zip(names, latitudes, longitudes):\n        print(name)\n            \n        # create the API request URL\n        url = 'https://api.foursquare.com/v2/venues/explore?&client_id={}&client_secret={}&v={}&ll={},{}&radius={}&limit={}'.format(\n            CLIENT_ID, \n            CLIENT_SECRET, \n            VERSION, \n            lat, \n            lng, \n            radius, \n            LIMIT)\n            \n        # make the GET request\n        results = requests.get(url).json()[\"response\"]['groups'][0]['items']\n        \n        # return only relevant information for each nearby venue\n        venues_list.append([(\n            name, \n            lat, \n            lng, \n            v['venue']['name'], \n            v['venue']['location']['lat'], \n            v['venue']['location']['lng'],  \n            v['venue']['categories'][0]['name']) for v in results])\n\n    nearby_venues = pd.DataFrame([item for venue_list in venues_list for item in venue_list])\n    nearby_venues.columns = ['Library', \n                  'Library Latitude', \n                  'Library Longitude', \n                  'Nearby Venue', \n                  'Nearby Venue Latitude', \n                  'Nearby Venue Longitude', \n                  'Nearby Venue Category']\n    \n    return(nearby_venues)"
        },
        {
            "cell_type": "code",
            "execution_count": null,
            "metadata": {},
            "outputs": [
                {
                    "name": "stdout",
                    "output_type": "stream",
                    "text": "Cabarrus County Charles A. Cannon Library\nPub Library CHARLOTTE & MEC\nSheppard Memorial Library Pitt County\nCraven-Pamlico-Carteret Regional\nCumberland County Public Library\nAlamance County Public Libraries\nRandolph County Public\nForsyth County Public\nFontana Regional\nDurham County\nNew Hanover County Public Library\nChatham County Public Libraries\nBeaufort-Hyde-Martin Regional\nGRANVILLE CO LIBRARY SYSTEM\nMooresville Public Library\nHocutt-Ellington Memorial Library\nBrunswick County Library\nGaston County Public Library\nDAVIDSON COUNTY PUBLIC LIBRARY\nNeuse Regional Library\nWilson County Public\nSandhill Regional\nHigh Point Public\nNC State University\nAlexander County\nBuncombe County Public\nHenderson County Public\nUnion County Public\nWake County\nEast Albemarle Regional\nNantahala Regional\nChapel Hill Public\nKings Mountain/Jacob S. Mauney Memorial\nWestern Carolina University\nPerson County Library\nAppalachian Regional\nBurke County Public Library\nBladen County Public Library\nNorthwestern Regional\nSandhill Community College\nMadison County Public\nOnslow County Public Library\nAppalachian State University\nEdgecombe County Memorial\nAvery-Mitchell-Yancy Regional Library\nUNC-Greensboro\nCleveland County Library\nWayne County Public\nUNC-Chapel Hill\nHARNETT COUNTY PUBLIC LIBRARY\nLincoln County Public Library\nPENDER COUNTY PUBLIC LIBRARY\nRowan Public Library\nEast Carolina University\nHaywood County Public\nRockingham County Public\nStanly County Public\nLee County\nBlue Ridge Community College\nUNC-Pembroke\nPublic Library of Johnston County & Smithfield\nWarren County Memorial Library\nSurry Community College\nElon University\nStanly Community College\nDurham Technical Community College\nOrange County Public Library\nGaston College\nBladen Community College\nFranklin County\nUniversity of Mount Olive\nWake Forest University\nUNC-Asheville\nSandhills Community College\nUNC-Wilmington\nJames Sprunt Community College\nSouthern Pines Public\nJohn L. Throckmorton\nPitt Community College\nMcDowell County Public\nAlbemarle Regional\nBrunswick Community College\nCaldwell County Public Library\nWake Technical Community College\nDuke University\nWarren Wilson College\nSTATION LIB MCAS CHERRY PT\nMontreat College\nGardner-Webb University\nIredell County\nCooley Library - Nashville\nQueens University of Charlotte\nNC School of Science and Mathematics\nCraven Community College\nFayetteville Technical Community College\nSouthwestern Community College\nMars Hill University\nCampbell University Library\nHigh Point University\nVance County/Perry Memorial Library\nCoastal Carolina Community College\nHickory Public\nCentral Carolina Community College\nCollege of the Albemarle\nRoanoke Rapids Public\nCentral Piedmont Community College\nMeredith College\nNash County--Braswell Memorial Library\nCatawba County\nWingate University\nCarteret Community College\nRockingham Community College\nUNC School of the Arts\nMartin Community College\nWashington/George H. and Laura E. Brown\nRichmond Community College\nBelmont Abbey College\nDavie County Public\nWilson Community Colleg\nHalifax County\nRobeson County Public\nNC A&T State University\nCape Fear Community College\nTransylvania County\nRandolph Community College\nDavidson College\nSampson-Clinton\nGreensboro Public\nAlamance Community College\nUNC-Charlotte\nTri-County Community College\nBrevard College Library\nForsyth Technical Community College\nFarmville Public\nRowan-Cabarrus Community College\nSouth Piedmont Community College\nLenoir Community College\nWestern Piedmont Community College\nDavidson County Community College\nJohnston Community College\nIsothermal Community College\nPamlico Community College\nRutherford County\nRobeson Community College\nColumbus County Library\nCaldwell Community College & Technical Institute\nMayland Community College\nState Library of North Carolina\nHallifax Community College\nNC Live Libraries\nGreensboro College\nMethodist University\nScotland County Memorial\nSampson Community College\nMontgomery Community College\nLees-McRae College\nCatawba Valley Community College\nPiedmont Community College\nAsheville-Buncombe Tech Community College\nPettigrew Regional\nSalem College\nWinston-Salem State University\nHyconeechee Regional\nVance-Granville Community College\nLivingstone College\nCleveland Community College\nHaywood Community College\n"
                }
            ],
            "source": "popularlibrary_venues = getNearbyVenues(names=df_filtered['name'],latitudes=df_filtered['lat'],longitudes=df_filtered['long'])                                 \nprint(popularlibrary_venues.shape)\npopularlibrary_venues.head()"
        },
        {
            "cell_type": "markdown",
            "metadata": {},
            "source": "# Identify the model to build popular libraries"
        },
        {
            "cell_type": "code",
            "execution_count": null,
            "metadata": {},
            "outputs": [],
            "source": "#let go back to orginal dataset\ndf.head()"
        },
        {
            "cell_type": "code",
            "execution_count": null,
            "metadata": {},
            "outputs": [],
            "source": "df[\"name\"].describe()"
        },
        {
            "cell_type": "code",
            "execution_count": null,
            "metadata": {},
            "outputs": [],
            "source": "# convert the type rows value into columns as checkout, hold and wishlist\n\ndf_format = pd.get_dummies(df, columns=['type'])\ndf_format.rename(columns={\"type_checkout.post\": \"checkout\",\"type_hold.post\": \"hold\", \"type_wishlist.post\": \"wishlist\"}, inplace=True)\ndf_format = df_format.filter(items=['name', 'checkout','hold','wishlist'])\ndf_format.head()"
        },
        {
            "cell_type": "code",
            "execution_count": null,
            "metadata": {},
            "outputs": [],
            "source": "# group by name and sum the total checkout, total holds, total wishlist\n\ndf_sum = df_format.groupby('name')['checkout','hold','wishlist'].sum().astype(int).reset_index()\ndf_sum.head()"
        },
        {
            "cell_type": "markdown",
            "metadata": {},
            "source": "### define popular titles based on no of checkouts"
        },
        {
            "cell_type": "code",
            "execution_count": null,
            "metadata": {},
            "outputs": [],
            "source": "def set_popular(row):\n    if row['checkout'] > 500:\n        return 1\n    else:\n        return 0\n\ndf_popular = df_sum.assign(popular=df_sum.apply(set_popular, axis=1))\ndf_popular.head()"
        },
        {
            "cell_type": "code",
            "execution_count": null,
            "metadata": {},
            "outputs": [],
            "source": "# deterine the x value\n\nX = np.asarray(df_popular[['checkout', 'hold', 'wishlist']])\nX[0:5]"
        },
        {
            "cell_type": "code",
            "execution_count": null,
            "metadata": {},
            "outputs": [],
            "source": "# deterine the y value\n\n\ny = np.asarray(df_popular['popular'])\ny [0:5]"
        },
        {
            "cell_type": "code",
            "execution_count": null,
            "metadata": {},
            "outputs": [],
            "source": "X = preprocessing.StandardScaler().fit(X).transform(X)\nX[0:5]"
        },
        {
            "cell_type": "markdown",
            "metadata": {},
            "source": "### Train/Test Dataset"
        },
        {
            "cell_type": "code",
            "execution_count": null,
            "metadata": {},
            "outputs": [],
            "source": "from sklearn.model_selection import train_test_split\nX_train, X_test, y_train, y_test = train_test_split( X, y, test_size=0.2, random_state=4)\nprint ('Train set:', X_train.shape,  y_train.shape)\nprint ('Test set:', X_test.shape,  y_test.shape)"
        },
        {
            "cell_type": "markdown",
            "metadata": {},
            "source": "### Modeling (Logistic Regression with Scikit-learn)"
        },
        {
            "cell_type": "code",
            "execution_count": null,
            "metadata": {},
            "outputs": [],
            "source": "from sklearn.linear_model import LogisticRegression\nfrom sklearn.metrics import confusion_matrix\nLR = LogisticRegression(C=0.01, solver='liblinear').fit(X_train,y_train)\nLR"
        },
        {
            "cell_type": "code",
            "execution_count": null,
            "metadata": {},
            "outputs": [],
            "source": "yhat = LR.predict(X_test)\nyhat"
        },
        {
            "cell_type": "code",
            "execution_count": null,
            "metadata": {},
            "outputs": [],
            "source": "yhat_prob = LR.predict_proba(X_test)\nyhat_prob"
        },
        {
            "cell_type": "markdown",
            "metadata": {},
            "source": "## Evaluation"
        },
        {
            "cell_type": "markdown",
            "metadata": {},
            "source": "### jaccard index"
        },
        {
            "cell_type": "code",
            "execution_count": null,
            "metadata": {},
            "outputs": [],
            "source": "from sklearn.metrics import jaccard_similarity_score\njaccard_similarity_score(y_test, yhat)"
        },
        {
            "cell_type": "markdown",
            "metadata": {},
            "source": "### confusion matrix"
        },
        {
            "cell_type": "code",
            "execution_count": null,
            "metadata": {},
            "outputs": [],
            "source": "from sklearn.metrics import classification_report, confusion_matrix\nimport itertools\ndef plot_confusion_matrix(cm, classes,\n                          normalize=False,\n                          title='Confusion matrix',\n                          cmap=plt.cm.Blues):\n    \"\"\"\n    This function prints and plots the confusion matrix.\n    Normalization can be applied by setting `normalize=True`.\n    \"\"\"\n    if normalize:\n        cm = cm.astype('float') / cm.sum(axis=1)[:, np.newaxis]\n        print(\"Normalized confusion matrix\")\n    else:\n        print('Confusion matrix, without normalization')\n\n    print(cm)\n\n    plt.imshow(cm, interpolation='nearest', cmap=cmap)\n    plt.title(title)\n    plt.colorbar()\n    tick_marks = np.arange(len(classes))\n    plt.xticks(tick_marks, classes, rotation=45)\n    plt.yticks(tick_marks, classes)\n\n    fmt = '.2f' if normalize else 'd'\n    thresh = cm.max() / 2.\n    for i, j in itertools.product(range(cm.shape[0]), range(cm.shape[1])):\n        plt.text(j, i, format(cm[i, j], fmt),\n                 horizontalalignment=\"center\",\n                 color=\"white\" if cm[i, j] > thresh else \"black\")\n\n    plt.tight_layout()\n    plt.ylabel('True label')\n    plt.xlabel('Predicted label')\nprint(confusion_matrix(y_test, yhat, labels=[1,0]))"
        },
        {
            "cell_type": "code",
            "execution_count": null,
            "metadata": {},
            "outputs": [],
            "source": "# Compute confusion matrix\ncnf_matrix = confusion_matrix(y_test, yhat, labels=[1,0])\nnp.set_printoptions(precision=2)\n\n\n# Plot non-normalized confusion matrix\nplt.figure()\nplot_confusion_matrix(cnf_matrix, classes=['popular=1','popular=0'],normalize= False,  title='Confusion matrix')"
        },
        {
            "cell_type": "code",
            "execution_count": null,
            "metadata": {},
            "outputs": [],
            "source": "print (classification_report(y_test, yhat))"
        },
        {
            "cell_type": "markdown",
            "metadata": {},
            "source": "### log loss"
        },
        {
            "cell_type": "code",
            "execution_count": null,
            "metadata": {},
            "outputs": [],
            "source": "from sklearn.metrics import log_loss\nlog_loss(y_test, yhat_prob)"
        },
        {
            "cell_type": "markdown",
            "metadata": {},
            "source": "# Result"
        },
        {
            "cell_type": "markdown",
            "metadata": {},
            "source": "###  Plot the North Carolina in map with all the popular libraries that are nearby"
        },
        {
            "cell_type": "code",
            "execution_count": null,
            "metadata": {},
            "outputs": [],
            "source": "\naddress = 'North Carolina'\n\ngeolocator = Nominatim()\nlocation = geolocator.geocode(address)\nlatitude = location.latitude\nlongitude = location.longitude\nprint('The geograpical coordinate of North Carolina are {}, {}.'.format(latitude, longitude))\n\nmap_geo = folium.Map(location=[latitude, longitude], zoom_start=8)\n\n# add markers to map\nfor lat, lng, label in zip(df_filtered['lat'], df_filtered['long'], df_filtered['label'] ):\n    label = folium.Popup(label, parse_html=True)\n    folium.Marker(\n        [lat, lng],\n        radius=5,\n        popup=label,\n        color='blue',\n        fill=True,\n        fill_color='#3186cc',\n        fill_opacity=0.7,\n        icon=folium.Icon(color='green'),\n        parse_html=False).add_to(map_geo)  \n    \nmap_geo"
        },
        {
            "cell_type": "markdown",
            "metadata": {},
            "source": "# Conclustion"
        },
        {
            "cell_type": "markdown",
            "metadata": {},
            "source": "#### Purpose of this project was to identiy the popular libraries in the state of North Carolina. We saw from the dataset that based on no of checkouts information we could analyse and get all the popular libraries , however that was not enough to be an optimal solutions, so we made use of data science and built a logistic regression model to evaluate the popular libraries and we identifed there are many factors like nearby venues that determine the popularity of the library. this result can be used by different stakeholders to build a new library in the state of North Carolina."
        },
        {
            "cell_type": "code",
            "execution_count": null,
            "metadata": {},
            "outputs": [],
            "source": ""
        }
    ],
    "metadata": {
        "kernelspec": {
            "display_name": "Python 3.6",
            "language": "python",
            "name": "python3"
        },
        "language_info": {
            "codemirror_mode": {
                "name": "ipython",
                "version": 3
            },
            "file_extension": ".py",
            "mimetype": "text/x-python",
            "name": "python",
            "nbconvert_exporter": "python",
            "pygments_lexer": "ipython3",
            "version": "3.6.9"
        }
    },
    "nbformat": 4,
    "nbformat_minor": 1
}